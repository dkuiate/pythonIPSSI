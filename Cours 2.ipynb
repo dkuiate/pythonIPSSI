{
 "cells": [
  {
   "cell_type": "markdown",
   "metadata": {},
   "source": [
    "## Les fonctions"
   ]
  },
  {
   "cell_type": "code",
   "execution_count": 3,
   "metadata": {},
   "outputs": [],
   "source": [
    "def ma_fonction(p1, p2, p3):\n",
    "    print(\"Hello\")\n",
    "    print(p1)\n",
    "    return \"Bonjour\""
   ]
  },
  {
   "cell_type": "code",
   "execution_count": 5,
   "metadata": {},
   "outputs": [
    {
     "name": "stdout",
     "output_type": "stream",
     "text": [
      "Hello\n",
      "John\n"
     ]
    },
    {
     "data": {
      "text/plain": [
       "'Bonjour'"
      ]
     },
     "execution_count": 5,
     "metadata": {},
     "output_type": "execute_result"
    }
   ],
   "source": [
    "ma_fonction(\"John\", None, 2)"
   ]
  },
  {
   "cell_type": "code",
   "execution_count": 6,
   "metadata": {},
   "outputs": [],
   "source": [
    "def dire_bonjour(firstname, lastname, age=30):\n",
    "    print(f\"Bonjour {firstname} {lastname}.  J'ai {age} ans\")"
   ]
  },
  {
   "cell_type": "code",
   "execution_count": 7,
   "metadata": {},
   "outputs": [
    {
     "name": "stdout",
     "output_type": "stream",
     "text": [
      "Bonjour Michel Lorain.  J'ai 30 ans\n"
     ]
    }
   ],
   "source": [
    "dire_bonjour(\"Michel\", \"Lorain\")"
   ]
  },
  {
   "cell_type": "code",
   "execution_count": 8,
   "metadata": {},
   "outputs": [
    {
     "name": "stdout",
     "output_type": "stream",
     "text": [
      "Bonjour Michel Lorain.  J'ai 40 ans\n"
     ]
    }
   ],
   "source": [
    "dire_bonjour(\"Michel\", \"Lorain\", 40)"
   ]
  },
  {
   "cell_type": "code",
   "execution_count": 9,
   "metadata": {},
   "outputs": [],
   "source": [
    "def dire_bonjour(firstname, lastname, age=30, city=\"Paris\"):\n",
    "    print(f\"Bonjour {firstname} {lastname}.  J'ai {age} ans et j'habite à {city}\")"
   ]
  },
  {
   "cell_type": "code",
   "execution_count": 10,
   "metadata": {},
   "outputs": [
    {
     "name": "stdout",
     "output_type": "stream",
     "text": [
      "Bonjour Eloise Martin.  J'ai 40 ans et j'habite à Bordeaux\n"
     ]
    }
   ],
   "source": [
    "dire_bonjour(\"Eloise\", \"Martin\", 40, \"Bordeaux\")"
   ]
  },
  {
   "cell_type": "code",
   "execution_count": 11,
   "metadata": {},
   "outputs": [
    {
     "name": "stdout",
     "output_type": "stream",
     "text": [
      "Bonjour Eloise Martin.  J'ai 30 ans et j'habite à Bordeaux\n"
     ]
    }
   ],
   "source": [
    "dire_bonjour(\"Eloise\", \"Martin\", city=\"Bordeaux\")"
   ]
  },
  {
   "cell_type": "code",
   "execution_count": 13,
   "metadata": {},
   "outputs": [
    {
     "name": "stdout",
     "output_type": "stream",
     "text": [
      "Bonjour Eloise Martin.  J'ai 30 ans et j'habite à Bordeaux\n"
     ]
    }
   ],
   "source": [
    "dire_bonjour(\"Eloise\", lastname=\"Martin\", city=\"Bordeaux\")"
   ]
  },
  {
   "cell_type": "code",
   "execution_count": 14,
   "metadata": {},
   "outputs": [
    {
     "name": "stdout",
     "output_type": "stream",
     "text": [
      "Bonjour Martin Eloise.  J'ai 30 ans et j'habite à Bordeaux\n"
     ]
    }
   ],
   "source": [
    "dire_bonjour(lastname=\"Eloise\", firstname=\"Martin\", city=\"Bordeaux\")"
   ]
  },
  {
   "cell_type": "code",
   "execution_count": 15,
   "metadata": {},
   "outputs": [
    {
     "ename": "SyntaxError",
     "evalue": "positional argument follows keyword argument (<ipython-input-15-a0ab4494f151>, line 1)",
     "output_type": "error",
     "traceback": [
      "\u001b[1;36m  File \u001b[1;32m\"<ipython-input-15-a0ab4494f151>\"\u001b[1;36m, line \u001b[1;32m1\u001b[0m\n\u001b[1;33m    dire_bonjour(lastname=\"Eloise\", \"Martin\", city=\"Bordeaux\")\u001b[0m\n\u001b[1;37m                                   ^\u001b[0m\n\u001b[1;31mSyntaxError\u001b[0m\u001b[1;31m:\u001b[0m positional argument follows keyword argument\n"
     ]
    }
   ],
   "source": [
    "dire_bonjour(lastname=\"Eloise\", \"Martin\", city=\"Bordeaux\")"
   ]
  },
  {
   "cell_type": "code",
   "execution_count": 16,
   "metadata": {},
   "outputs": [
    {
     "name": "stdout",
     "output_type": "stream",
     "text": [
      "4\n",
      "15\n",
      "15\n"
     ]
    }
   ],
   "source": [
    "ma_variable = 4\n",
    "\n",
    "def ma_fonction():\n",
    "    print(ma_variable)\n",
    "    \n",
    "print(ma_variable)\n",
    "ma_variable = 15\n",
    "ma_fonction()\n",
    "print(ma_variable)"
   ]
  },
  {
   "cell_type": "code",
   "execution_count": 17,
   "metadata": {},
   "outputs": [
    {
     "name": "stdout",
     "output_type": "stream",
     "text": [
      "4\n",
      "16\n",
      "15\n"
     ]
    }
   ],
   "source": [
    "ma_variable = 4\n",
    "\n",
    "def ma_fonction():\n",
    "    ma_variable = 16\n",
    "    print(ma_variable)\n",
    "    \n",
    "print(ma_variable)\n",
    "ma_variable = 15\n",
    "ma_fonction()\n",
    "print(ma_variable)"
   ]
  },
  {
   "cell_type": "code",
   "execution_count": 18,
   "metadata": {},
   "outputs": [
    {
     "name": "stdout",
     "output_type": "stream",
     "text": [
      "4\n"
     ]
    },
    {
     "ename": "UnboundLocalError",
     "evalue": "local variable 'ma_variable' referenced before assignment",
     "output_type": "error",
     "traceback": [
      "\u001b[1;31m---------------------------------------------------------------------------\u001b[0m",
      "\u001b[1;31mUnboundLocalError\u001b[0m                         Traceback (most recent call last)",
      "\u001b[1;32m<ipython-input-18-6075781c6d06>\u001b[0m in \u001b[0;36m<module>\u001b[1;34m\u001b[0m\n\u001b[0;32m      7\u001b[0m \u001b[0mprint\u001b[0m\u001b[1;33m(\u001b[0m\u001b[0mma_variable\u001b[0m\u001b[1;33m)\u001b[0m\u001b[1;33m\u001b[0m\u001b[1;33m\u001b[0m\u001b[0m\n\u001b[0;32m      8\u001b[0m \u001b[0mma_variable\u001b[0m \u001b[1;33m=\u001b[0m \u001b[1;36m15\u001b[0m\u001b[1;33m\u001b[0m\u001b[1;33m\u001b[0m\u001b[0m\n\u001b[1;32m----> 9\u001b[1;33m \u001b[0mma_fonction\u001b[0m\u001b[1;33m(\u001b[0m\u001b[1;33m)\u001b[0m\u001b[1;33m\u001b[0m\u001b[1;33m\u001b[0m\u001b[0m\n\u001b[0m\u001b[0;32m     10\u001b[0m \u001b[0mprint\u001b[0m\u001b[1;33m(\u001b[0m\u001b[0mma_variable\u001b[0m\u001b[1;33m)\u001b[0m\u001b[1;33m\u001b[0m\u001b[1;33m\u001b[0m\u001b[0m\n",
      "\u001b[1;32m<ipython-input-18-6075781c6d06>\u001b[0m in \u001b[0;36mma_fonction\u001b[1;34m()\u001b[0m\n\u001b[0;32m      2\u001b[0m \u001b[1;33m\u001b[0m\u001b[0m\n\u001b[0;32m      3\u001b[0m \u001b[1;32mdef\u001b[0m \u001b[0mma_fonction\u001b[0m\u001b[1;33m(\u001b[0m\u001b[1;33m)\u001b[0m\u001b[1;33m:\u001b[0m\u001b[1;33m\u001b[0m\u001b[1;33m\u001b[0m\u001b[0m\n\u001b[1;32m----> 4\u001b[1;33m     \u001b[0mprint\u001b[0m\u001b[1;33m(\u001b[0m\u001b[0mma_variable\u001b[0m\u001b[1;33m)\u001b[0m\u001b[1;33m\u001b[0m\u001b[1;33m\u001b[0m\u001b[0m\n\u001b[0m\u001b[0;32m      5\u001b[0m     \u001b[0mma_variable\u001b[0m \u001b[1;33m=\u001b[0m \u001b[1;36m16\u001b[0m\u001b[1;33m\u001b[0m\u001b[1;33m\u001b[0m\u001b[0m\n\u001b[0;32m      6\u001b[0m \u001b[1;33m\u001b[0m\u001b[0m\n",
      "\u001b[1;31mUnboundLocalError\u001b[0m: local variable 'ma_variable' referenced before assignment"
     ]
    }
   ],
   "source": [
    "ma_variable = 4\n",
    "\n",
    "def ma_fonction():\n",
    "    print(ma_variable)\n",
    "    ma_variable = 16\n",
    "    \n",
    "print(ma_variable)\n",
    "ma_variable = 15\n",
    "ma_fonction()\n",
    "print(ma_variable)"
   ]
  },
  {
   "cell_type": "code",
   "execution_count": 19,
   "metadata": {},
   "outputs": [
    {
     "name": "stdout",
     "output_type": "stream",
     "text": [
      "4\n",
      "15\n"
     ]
    }
   ],
   "source": [
    "ma_variable = 4\n",
    "\n",
    "def ma_fonction():\n",
    "    # print(ma_variable)\n",
    "    ma_variable = 16\n",
    "    \n",
    "print(ma_variable)\n",
    "ma_variable = 15\n",
    "ma_fonction()\n",
    "print(ma_variable)"
   ]
  },
  {
   "cell_type": "code",
   "execution_count": 20,
   "metadata": {},
   "outputs": [
    {
     "name": "stdout",
     "output_type": "stream",
     "text": [
      "{'val': 4}\n",
      "{'val': 16}\n"
     ]
    }
   ],
   "source": [
    "ma_variable = {\"val\": 4}\n",
    "\n",
    "def ma_fonction():\n",
    "    # print(ma_variable)\n",
    "    ma_variable = {\"val\": 15}\n",
    "    \n",
    "print(ma_variable)\n",
    "ma_variable = {\"val\": 16}\n",
    "ma_fonction()\n",
    "print(ma_variable)"
   ]
  },
  {
   "cell_type": "code",
   "execution_count": 21,
   "metadata": {},
   "outputs": [
    {
     "name": "stdout",
     "output_type": "stream",
     "text": [
      "{'val': 4}\n",
      "{'val': 15}\n"
     ]
    }
   ],
   "source": [
    "ma_variable = {\"val\": 4}\n",
    "\n",
    "def ma_fonction():\n",
    "    # print(ma_variable)\n",
    "    ma_variable[\"val\"] = 15\n",
    "    \n",
    "print(ma_variable)\n",
    "ma_variable = {\"val\": 16}\n",
    "ma_fonction()\n",
    "print(ma_variable)"
   ]
  },
  {
   "cell_type": "code",
   "execution_count": 22,
   "metadata": {},
   "outputs": [
    {
     "name": "stdout",
     "output_type": "stream",
     "text": [
      "{'val': 4}\n",
      "{'val': 16}\n"
     ]
    }
   ],
   "source": [
    "ma_variable = {\"val\": 4}\n",
    "\n",
    "def ma_fonction(ma_variable):\n",
    "    # print(ma_variable)\n",
    "    ma_variable[\"val\"] = 15\n",
    "    \n",
    "print(ma_variable)\n",
    "ma_variable = {\"val\": 16}\n",
    "ma_fonction({\"val\": 18})\n",
    "print(ma_variable)"
   ]
  },
  {
   "cell_type": "code",
   "execution_count": 23,
   "metadata": {},
   "outputs": [
    {
     "name": "stdout",
     "output_type": "stream",
     "text": [
      "{'val': 4}\n",
      "{'val': 15}\n"
     ]
    }
   ],
   "source": [
    "ma_variable = {\"val\": 4}\n",
    "\n",
    "def ma_fonction(ma_variable):\n",
    "    # print(ma_variable)\n",
    "    ma_variable[\"val\"] = 15\n",
    "    \n",
    "print(ma_variable)\n",
    "ma_variable = {\"val\": 16}\n",
    "ma_fonction(ma_variable)\n",
    "print(ma_variable)"
   ]
  },
  {
   "cell_type": "code",
   "execution_count": 25,
   "metadata": {},
   "outputs": [
    {
     "name": "stdout",
     "output_type": "stream",
     "text": [
      "4\n",
      "15\n",
      "16\n"
     ]
    }
   ],
   "source": [
    "ma_variable = 4\n",
    "\n",
    "def ma_fonction():\n",
    "    global ma_variable\n",
    "    print(ma_variable)\n",
    "    ma_variable = 16\n",
    "    \n",
    "print(ma_variable)\n",
    "ma_variable = 15\n",
    "ma_fonction()\n",
    "print(ma_variable)"
   ]
  },
  {
   "cell_type": "markdown",
   "metadata": {},
   "source": [
    "## Packing & unpacking"
   ]
  },
  {
   "cell_type": "code",
   "execution_count": 26,
   "metadata": {},
   "outputs": [
    {
     "name": "stdout",
     "output_type": "stream",
     "text": [
      "('Mathieur', 'Elma', 'Jean-Louise')\n"
     ]
    }
   ],
   "source": [
    "def dire_bonjour(*args):\n",
    "    print(args)\n",
    "    \n",
    "    \n",
    "dire_bonjour(\"Mathieur\", \"Elma\", \"Jean-Louise\")"
   ]
  },
  {
   "cell_type": "code",
   "execution_count": 27,
   "metadata": {},
   "outputs": [
    {
     "name": "stdout",
     "output_type": "stream",
     "text": [
      "('Mathieur', 'Elma', 'Jean-Louise', 'Aurelien')\n"
     ]
    }
   ],
   "source": [
    "def dire_bonjour(*args):\n",
    "    print(args)\n",
    "    \n",
    "    \n",
    "dire_bonjour(\"Mathieur\", \"Elma\", \"Jean-Louise\", \"Aurelien\")"
   ]
  },
  {
   "cell_type": "code",
   "execution_count": 29,
   "metadata": {},
   "outputs": [
    {
     "name": "stdout",
     "output_type": "stream",
     "text": [
      "('Mathieur', 'Elma', 'Jean-Louise', 'Aurelien')\n",
      "{'city': 'Paris'}\n"
     ]
    }
   ],
   "source": [
    "def dire_bonjour(*args, **kwargs):\n",
    "    print(args)\n",
    "    print(kwargs)\n",
    "    \n",
    "    \n",
    "dire_bonjour(\"Mathieur\", \"Elma\", \"Jean-Louise\", \"Aurelien\", city=\"Paris\")"
   ]
  },
  {
   "cell_type": "code",
   "execution_count": 30,
   "metadata": {},
   "outputs": [
    {
     "name": "stdout",
     "output_type": "stream",
     "text": [
      "Bonjour Jordan Hewitt.  J'ai 40 ans et j'habite à Paris\n"
     ]
    }
   ],
   "source": [
    "def dire_bonjour(firstname, lastname, age=30, city=\"Paris\"):\n",
    "    print(f\"Bonjour {firstname} {lastname}.  J'ai {age} ans et j'habite à {city}\")\n",
    "    \n",
    "    \n",
    "args = [\"Jordan\", \"Hewitt\", 40]\n",
    "dire_bonjour(*args)"
   ]
  },
  {
   "cell_type": "code",
   "execution_count": 31,
   "metadata": {},
   "outputs": [
    {
     "name": "stdout",
     "output_type": "stream",
     "text": [
      "Bonjour Jordan Hewitt.  J'ai 40 ans et j'habite à Melbourne\n"
     ]
    }
   ],
   "source": [
    "def dire_bonjour(firstname, lastname, age=30, city=\"Paris\"):\n",
    "    print(f\"Bonjour {firstname} {lastname}. J'ai {age} ans et j'habite à {city}\")\n",
    "    \n",
    "    \n",
    "args = [\"Jordan\", \"Hewitt\", 40, \"Melbourne\"]\n",
    "dire_bonjour(*args)"
   ]
  },
  {
   "cell_type": "code",
   "execution_count": 32,
   "metadata": {},
   "outputs": [
    {
     "name": "stdout",
     "output_type": "stream",
     "text": [
      "Bonjour Jordan Jean. J'ai 52 ans et j'habite à New-York\n"
     ]
    }
   ],
   "source": [
    "def dire_bonjour(firstname, lastname, age=30, city=\"Paris\"):\n",
    "    print(f\"Bonjour {firstname} {lastname}. J'ai {age} ans et j'habite à {city}\")\n",
    "    \n",
    "    \n",
    "args = [\"Jordan\"]\n",
    "dico = {\"lastname\": \"Jean\", \"age\": 52, \"city\": \"New-York\"}\n",
    "dire_bonjour(*args, **dico)"
   ]
  },
  {
   "cell_type": "markdown",
   "metadata": {},
   "source": [
    "## Les décorateurs"
   ]
  },
  {
   "cell_type": "code",
   "execution_count": 34,
   "metadata": {},
   "outputs": [],
   "source": [
    "def dire_bonjour(firstname, lastname, age=30, city=\"Paris\"):\n",
    "    return f\"Bonjour {firstname} {lastname}. J'ai {age} ans et j'habite à {city}\"\n",
    "    \n",
    "    \n",
    "def repondre(firstname, lastname):\n",
    "    return f\"Enchanté {firstname} {lastname}\"\n"
   ]
  },
  {
   "cell_type": "code",
   "execution_count": 38,
   "metadata": {},
   "outputs": [
    {
     "name": "stdout",
     "output_type": "stream",
     "text": [
      "BONJOUR ELOISE MARTIN. J'AI 40 ANS ET J'HABITE À BORDEAUX\n",
      "ENCHANTÉ ELOISE MARTIN\n"
     ]
    }
   ],
   "source": [
    "print(dire_bonjour(\"Eloise\", \"Martin\", 40, \"Bordeaux\"))\n",
    "print(repondre(\"Eloise\", \"Martin\"))\n"
   ]
  },
  {
   "cell_type": "code",
   "execution_count": 39,
   "metadata": {},
   "outputs": [
    {
     "name": "stdout",
     "output_type": "stream",
     "text": [
      "Mon déco\n",
      "Mon déco\n"
     ]
    }
   ],
   "source": [
    "def mon_deco(f):\n",
    "    print(\"Mon déco\")\n",
    "    return f\n",
    "\n",
    "@mon_deco\n",
    "def dire_bonjour(firstname, lastname, age=30, city=\"Paris\"):\n",
    "    return f\"Bonjour {firstname} {lastname}. J'ai {age} ans et j'habite à {city}\"\n",
    "    \n",
    "@mon_deco\n",
    "def repondre(firstname, lastname):\n",
    "    return f\"Enchanté {firstname} {lastname}\"\n"
   ]
  },
  {
   "cell_type": "code",
   "execution_count": 40,
   "metadata": {},
   "outputs": [
    {
     "name": "stdout",
     "output_type": "stream",
     "text": [
      "Bonjour Eloise Martin. J'ai 40 ans et j'habite à Bordeaux\n",
      "Enchanté Eloise Martin\n"
     ]
    }
   ],
   "source": [
    "print(dire_bonjour(\"Eloise\", \"Martin\", 40, \"Bordeaux\"))\n",
    "print(repondre(\"Eloise\", \"Martin\"))\n"
   ]
  },
  {
   "cell_type": "code",
   "execution_count": 43,
   "metadata": {},
   "outputs": [
    {
     "name": "stdout",
     "output_type": "stream",
     "text": [
      "Mon déco\n",
      "Mon déco\n"
     ]
    }
   ],
   "source": [
    "def mon_deco(f):\n",
    "    print(\"Mon déco\")\n",
    "    def nouvelle_fonction(*args, **kwargs):\n",
    "        print(\"nouveau comportement\")\n",
    "        return f(*args, **kwargs)\n",
    "    return nouvelle_fonction\n",
    "\n",
    "@mon_deco\n",
    "def dire_bonjour(firstname, lastname, age=30, city=\"Paris\"):\n",
    "    return f\"Bonjour {firstname} {lastname}. J'ai {age} ans et j'habite à {city}\"\n",
    "    \n",
    "@mon_deco\n",
    "def repondre(firstname, lastname):\n",
    "    return f\"Enchanté {firstname} {lastname}\"\n",
    "\n"
   ]
  },
  {
   "cell_type": "code",
   "execution_count": 44,
   "metadata": {},
   "outputs": [
    {
     "name": "stdout",
     "output_type": "stream",
     "text": [
      "nouveau comportement\n",
      "Bonjour Eloise Martin. J'ai 40 ans et j'habite à Bordeaux\n",
      "nouveau comportement\n",
      "Enchanté Eloise Martin\n"
     ]
    }
   ],
   "source": [
    "print(dire_bonjour(\"Eloise\", \"Martin\", 40, \"Bordeaux\"))\n",
    "print(repondre(\"Eloise\", \"Martin\"))\n"
   ]
  },
  {
   "cell_type": "code",
   "execution_count": 47,
   "metadata": {},
   "outputs": [
    {
     "name": "stdout",
     "output_type": "stream",
     "text": [
      "BONJOUR ELOISE MARTIN. J'AI 40 ANS ET J'HABITE À BORDEAUX\n",
      "ENCHANTÉ ELOISE MARTIN\n"
     ]
    }
   ],
   "source": [
    "def mon_deco(f):\n",
    "    def nouvelle_fonction(*args, **kwargs):\n",
    "        return f(*args, **kwargs).upper()\n",
    "    return nouvelle_fonction\n",
    "\n",
    "@mon_deco\n",
    "def dire_bonjour(firstname, lastname, age=30, city=\"Paris\"):\n",
    "    return f\"Bonjour {firstname} {lastname}. J'ai {age} ans et j'habite à {city}\"\n",
    "    \n",
    "@mon_deco\n",
    "def repondre(firstname, lastname):\n",
    "    return f\"Enchanté {firstname} {lastname}\"\n",
    "\n",
    "\n",
    "print(dire_bonjour(\"Eloise\", \"Martin\", 40, \"Bordeaux\"))\n",
    "print(repondre(\"Eloise\", \"Martin\"))\n"
   ]
  },
  {
   "cell_type": "code",
   "execution_count": 50,
   "metadata": {},
   "outputs": [
    {
     "name": "stdout",
     "output_type": "stream",
     "text": [
      "ENCHANTÉ ELOISE MARTIN\n"
     ]
    }
   ],
   "source": [
    "def assert_string(f):\n",
    "    def nouvelle_fonction(*args, **kwargs):\n",
    "        assert len([a for a in args if type(a) != str]) == 0, \"All parameters must be strings\"\n",
    "        return f(*args, **kwargs).upper()\n",
    "    return nouvelle_fonction\n",
    "\n",
    "@assert_string\n",
    "def dire_bonjour(firstname, lastname, age=30, city=\"Paris\"):\n",
    "    return f\"Bonjour {firstname} {lastname}. J'ai {age} ans et j'habite à {city}\"\n",
    "    \n",
    "@assert_string\n",
    "def repondre(firstname, lastname):\n",
    "    return f\"Enchanté {firstname} {lastname}\"\n",
    "\n",
    "\n",
    "# print(dire_bonjour(\"Eloise\", \"Martin\", 40, \"Bordeaux\"))\n",
    "print(repondre(\"Eloise\", \"Martin\"))\n"
   ]
  },
  {
   "cell_type": "code",
   "execution_count": 54,
   "metadata": {},
   "outputs": [
    {
     "data": {
      "text/plain": [
       "2"
      ]
     },
     "execution_count": 54,
     "metadata": {},
     "output_type": "execute_result"
    }
   ],
   "source": [
    "from random import randint\n",
    "\n",
    "randint(0,2)"
   ]
  },
  {
   "cell_type": "code",
   "execution_count": null,
   "metadata": {},
   "outputs": [],
   "source": []
  },
  {
   "cell_type": "markdown",
   "metadata": {},
   "source": [
    "## Recherche par dichotomie\n",
    "\n",
    "1- L'ordinateur va générer un entier aléatoire entre 0 et 100 (compris) grâce à randint. L'utilisateur va devoir le deviner en faisant des propositions. Proposititons auxquelles l'ordinateur répondra \"trop petit\", \"trop grand\" ou \"gagné\"\n",
    "\n",
    "2- L'utilisateur à un nombe secret en tête.Il ne l'écrit pas dans le code. L'ordinateur doit le deviner. Pour cela, il fait plusieurs propoposition. A cacune de ses propositions, l'utilisateur répond \"P\" pour trop petit, \"G\" pour trop grand, \"E\" pour égal."
   ]
  },
  {
   "cell_type": "code",
   "execution_count": 2,
   "metadata": {},
   "outputs": [
    {
     "name": "stdout",
     "output_type": "stream",
     "text": [
      "Devinez le nombe mystère50\n",
      "Trop grand\n",
      "Devinez le nombe mystère25\n",
      "Trop petit\n",
      "Devinez le nombe mystère32\n",
      "Trop petit\n",
      "Devinez le nombe mystère40\n",
      "Trop petit\n",
      "Devinez le nombe mystère45\n",
      "Trop grand\n",
      "Devinez le nombe mystère42\n",
      "Gagné\n"
     ]
    }
   ],
   "source": [
    "from random import randint\n",
    "\n",
    "secret = randint(0,100)\n",
    "proposition = None\n",
    "\n",
    "while proposition != secret:\n",
    "    proposition = int(input(\"Devinez le nombe mystère\"))\n",
    "    if proposition > secret:\n",
    "        print(\"Trop grand\")\n",
    "    if proposition < secret:\n",
    "        print(\"Trop petit\")\n",
    "        \n",
    "print(\"Gagné\")"
   ]
  },
  {
   "cell_type": "code",
   "execution_count": 6,
   "metadata": {},
   "outputs": [
    {
     "name": "stdout",
     "output_type": "stream",
     "text": [
      "Est-ce que le nombre mystère est 50 ? P/G/E?P\n",
      "Est-ce que le nombre mystère est 75 ? P/G/E?P\n",
      "Est-ce que le nombre mystère est 88 ? P/G/E?P\n",
      "Est-ce que le nombre mystère est 94 ? P/G/E?P\n",
      "Est-ce que le nombre mystère est 97 ? P/G/E?P\n",
      "Est-ce que le nombre mystère est 99 ? P/G/E?P\n",
      "Est-ce que le nombre mystère est 100 ? P/G/E?E\n"
     ]
    }
   ],
   "source": [
    "borne_min = 0\n",
    "borne_max = 101\n",
    "proposition = (borne_max + borne_min) // 2\n",
    "reponse = \"G\"\n",
    "\n",
    "while reponse != \"E\":\n",
    "    reponse = input(f\"Est-ce que le nombre mystère est {proposition} ? P/G/E?\")\n",
    "    if reponse == \"P\":\n",
    "        borne_min = proposition\n",
    "    if reponse == \"G\":\n",
    "        borne_max = proposition\n",
    "    proposition = (borne_max + borne_min) // 2\n",
    "    \n"
   ]
  },
  {
   "cell_type": "code",
   "execution_count": null,
   "metadata": {},
   "outputs": [],
   "source": []
  },
  {
   "cell_type": "code",
   "execution_count": null,
   "metadata": {},
   "outputs": [],
   "source": []
  },
  {
   "cell_type": "markdown",
   "metadata": {},
   "source": [
    "## Tri bulle\n",
    "\n",
    "Trier les éléments en les comparant deux à deux. On ne compare chaque élément qu'avec l'élément suivant."
   ]
  },
  {
   "cell_type": "code",
   "execution_count": 55,
   "metadata": {},
   "outputs": [
    {
     "ename": "SyntaxError",
     "evalue": "invalid syntax (<ipython-input-55-58ad7423ef06>, line 2)",
     "output_type": "error",
     "traceback": [
      "\u001b[1;36m  File \u001b[1;32m\"<ipython-input-55-58ad7423ef06>\"\u001b[1;36m, line \u001b[1;32m2\u001b[0m\n\u001b[1;33m    for ...:\u001b[0m\n\u001b[1;37m           ^\u001b[0m\n\u001b[1;31mSyntaxError\u001b[0m\u001b[1;31m:\u001b[0m invalid syntax\n"
     ]
    }
   ],
   "source": [
    "def tri_bulle(arr):\n",
    "    for i in range(len(arr)-1):\n",
    "        # si ith-element > (i+1)th element\n",
    "        # on inverse les deux éléments"
   ]
  },
  {
   "cell_type": "code",
   "execution_count": 57,
   "metadata": {},
   "outputs": [
    {
     "name": "stdout",
     "output_type": "stream",
     "text": [
      "4\n",
      "2\n"
     ]
    }
   ],
   "source": [
    "def tri_bulle(arr):\n",
    "    for i, val in enumerate(arr[:-1]):\n",
    "        # si ith-element > (i+1)th element\n",
    "        # on inverse les deux éléments\n",
    "        if arr[i] > arr[i+1]:\n",
    "            pass"
   ]
  },
  {
   "cell_type": "code",
   "execution_count": 67,
   "metadata": {},
   "outputs": [
    {
     "data": {
      "text/plain": [
       "[0, 1, 4, 7, 9]"
      ]
     },
     "execution_count": 67,
     "metadata": {},
     "output_type": "execute_result"
    }
   ],
   "source": [
    "def tri_bulle(arr):\n",
    "    for j in range(len(arr)-1):\n",
    "        for i, val in enumerate(arr[:-1]):\n",
    "            # si ith-element > (i+1)th element\n",
    "            # on inverse les deux éléments\n",
    "            if val > arr[i+1]:\n",
    "                arr[i], arr[i+1] = arr[i+1], arr[i]\n",
    "            \n",
    "    return arr\n",
    "\n",
    "\n",
    "tri_bulle([4,9,7,1,0])"
   ]
  },
  {
   "cell_type": "code",
   "execution_count": 58,
   "metadata": {},
   "outputs": [
    {
     "name": "stdout",
     "output_type": "stream",
     "text": [
      "l1: 1, l2: 4\n",
      "l1: 7, l2: 7\n",
      "l1: 5, l2: 9\n",
      "l1: 4, l2: 12\n"
     ]
    }
   ],
   "source": [
    "# ma_liste1 = [1,7,5,4]\n",
    "# ma_liste2 = [4,7,9,12]\n",
    "# for i, j in zip(ma_liste1, ma_liste2):\n",
    "#     print(f\"l1: {i}, l2: {j}\")"
   ]
  },
  {
   "cell_type": "code",
   "execution_count": 61,
   "metadata": {},
   "outputs": [
    {
     "name": "stdout",
     "output_type": "stream",
     "text": [
      "l1: 100, l2: 174, guess_score: 17\n",
      "l1: 100, l2: 187, guess_score: 18\n",
      "l1: 100, l2: 190, guess_score: 19\n",
      "l1: 100, l2: 182, guess_score: 18\n",
      "l1: 70, l2: 174, guess_score: 12\n",
      "l1: 70, l2: 187, guess_score: 13\n",
      "l1: 70, l2: 190, guess_score: 13\n",
      "l1: 70, l2: 182, guess_score: 12\n",
      "l1: 85, l2: 174, guess_score: 14\n",
      "l1: 85, l2: 187, guess_score: 15\n",
      "l1: 85, l2: 190, guess_score: 16\n",
      "l1: 85, l2: 182, guess_score: 15\n",
      "l1: 74, l2: 174, guess_score: 12\n",
      "l1: 74, l2: 187, guess_score: 13\n",
      "l1: 74, l2: 190, guess_score: 14\n",
      "l1: 74, l2: 182, guess_score: 13\n"
     ]
    }
   ],
   "source": [
    "from itertools import product\n",
    "\n",
    "def guess_score(poid, taille):\n",
    "    return poid * taille // 1000\n",
    "\n",
    "liste_poids = [100,70,85,74]\n",
    "liste_tailles = [174,187,190,182]\n",
    "for poid, taille in product(liste_poids, liste_tailles):\n",
    "    print(f\"l1: {poid}, l2: {taille}, guess_score: {guess_score(poid, taille)}\")"
   ]
  },
  {
   "cell_type": "code",
   "execution_count": null,
   "metadata": {},
   "outputs": [],
   "source": [
    "def tri_fusion(arr):\n",
    "    if len(arr) <= 1:\n",
    "        return arr\n",
    "    if len(arr) == 2:\n",
    "        if arr[0] > arr[1]:\n",
    "            return arr[::-1]\n",
    "        return arr"
   ]
  },
  {
   "cell_type": "code",
   "execution_count": 69,
   "metadata": {},
   "outputs": [
    {
     "data": {
      "text/plain": [
       "[5, 2, 1]"
      ]
     },
     "execution_count": 69,
     "metadata": {},
     "output_type": "execute_result"
    }
   ],
   "source": [
    "ma_liste1 = [1,2,5]\n",
    "ma_liste2 = [4,7,9]\n",
    "\n",
    "# 1, 2, 4, 5, 7, 9"
   ]
  },
  {
   "cell_type": "code",
   "execution_count": 72,
   "metadata": {},
   "outputs": [
    {
     "data": {
      "text/plain": [
       "[0, 1, 3, 4, 7, 8, 9]"
      ]
     },
     "execution_count": 72,
     "metadata": {},
     "output_type": "execute_result"
    }
   ],
   "source": [
    "# terminer cet algorithme\n",
    "\n",
    "def fusion(arr1, arr2):\n",
    "    # fusionne deux listes déjà triées.\n",
    "    i = 0\n",
    "    j = 0\n",
    "    res = []\n",
    "    while i < len(arr1) and j < len(arr2):\n",
    "        if arr1[i] < arr2[j]:\n",
    "            res.append(arr1[i])\n",
    "            i += 1\n",
    "        else:\n",
    "            res.append(arr2[j])\n",
    "            j += 1\n",
    "    res.extend(arr1[i:])\n",
    "    res.extend(arr2[j:])\n",
    "    return res\n",
    "    \n",
    "    \n",
    "def tri_fusion(arr):\n",
    "    if len(arr) <= 1:\n",
    "        return arr\n",
    "    if len(arr) == 2:\n",
    "        return arr[::-1] if arr[0] > arr[1] else arr\n",
    "    else:\n",
    "        arr1 = arr[:len(arr)//2] # première moitiée\n",
    "        arr2 = arr[len(arr)//2:]# deuxième moitiée\n",
    "        res1 = tri_fusion(arr1)\n",
    "        res2 = tri_fusion(arr2)\n",
    "        return fusion(res1, res2)\n",
    "        \n",
    "\n",
    "        \n",
    "tri_fusion([4,8,1,3,7,9,0])"
   ]
  },
  {
   "cell_type": "code",
   "execution_count": null,
   "metadata": {},
   "outputs": [],
   "source": [
    "def solve(arr):\n",
    "    res = []\n",
    "    for i, val in enumerate(arr):\n",
    "        is_leader = True\n",
    "        for val2 in arr[i+1:]:\n",
    "            if val2 > val:\n",
    "                is_leader = False\n",
    "                break\n",
    "        if is_leader:\n",
    "            res.append(val)\n",
    "    return res"
   ]
  }
 ],
 "metadata": {
  "kernelspec": {
   "display_name": "Python 3",
   "language": "python",
   "name": "python3"
  },
  "language_info": {
   "codemirror_mode": {
    "name": "ipython",
    "version": 3
   },
   "file_extension": ".py",
   "mimetype": "text/x-python",
   "name": "python",
   "nbconvert_exporter": "python",
   "pygments_lexer": "ipython3",
   "version": "3.7.3"
  }
 },
 "nbformat": 4,
 "nbformat_minor": 4
}
