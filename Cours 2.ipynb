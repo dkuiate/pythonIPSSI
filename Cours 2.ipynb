{
 "cells": [
  {
   "cell_type": "markdown",
   "metadata": {},
   "source": [
    "## Les fonctions"
   ]
  },
  {
   "cell_type": "code",
   "execution_count": 3,
   "metadata": {},
   "outputs": [],
   "source": [
    "def ma_fonction(p1, p2, p3):\n",
    "    print(\"Hello\")\n",
    "    print(p1)\n",
    "    return \"Bonjour\""
   ]
  },
  {
   "cell_type": "code",
   "execution_count": 5,
   "metadata": {},
   "outputs": [
    {
     "name": "stdout",
     "output_type": "stream",
     "text": [
      "Hello\n",
      "John\n"
     ]
    },
    {
     "data": {
      "text/plain": [
       "'Bonjour'"
      ]
     },
     "execution_count": 5,
     "metadata": {},
     "output_type": "execute_result"
    }
   ],
   "source": [
    "ma_fonction(\"John\", None, 2)"
   ]
  },
  {
   "cell_type": "code",
   "execution_count": 6,
   "metadata": {},
   "outputs": [],
   "source": [
    "def dire_bonjour(firstname, lastname, age=30):\n",
    "    print(f\"Bonjour {firstname} {lastname}.  J'ai {age} ans\")"
   ]
  },
  {
   "cell_type": "code",
   "execution_count": 7,
   "metadata": {},
   "outputs": [
    {
     "name": "stdout",
     "output_type": "stream",
     "text": [
      "Bonjour Michel Lorain.  J'ai 30 ans\n"
     ]
    }
   ],
   "source": [
    "dire_bonjour(\"Michel\", \"Lorain\")"
   ]
  },
  {
   "cell_type": "code",
   "execution_count": 8,
   "metadata": {},
   "outputs": [
    {
     "name": "stdout",
     "output_type": "stream",
     "text": [
      "Bonjour Michel Lorain.  J'ai 40 ans\n"
     ]
    }
   ],
   "source": [
    "dire_bonjour(\"Michel\", \"Lorain\", 40)"
   ]
  },
  {
   "cell_type": "code",
   "execution_count": 9,
   "metadata": {},
   "outputs": [],
   "source": [
    "def dire_bonjour(firstname, lastname, age=30, city=\"Paris\"):\n",
    "    print(f\"Bonjour {firstname} {lastname}.  J'ai {age} ans et j'habite à {city}\")"
   ]
  },
  {
   "cell_type": "code",
   "execution_count": 10,
   "metadata": {},
   "outputs": [
    {
     "name": "stdout",
     "output_type": "stream",
     "text": [
      "Bonjour Eloise Martin.  J'ai 40 ans et j'habite à Bordeaux\n"
     ]
    }
   ],
   "source": [
    "dire_bonjour(\"Eloise\", \"Martin\", 40, \"Bordeaux\")"
   ]
  },
  {
   "cell_type": "code",
   "execution_count": 11,
   "metadata": {},
   "outputs": [
    {
     "name": "stdout",
     "output_type": "stream",
     "text": [
      "Bonjour Eloise Martin.  J'ai 30 ans et j'habite à Bordeaux\n"
     ]
    }
   ],
   "source": [
    "dire_bonjour(\"Eloise\", \"Martin\", city=\"Bordeaux\")"
   ]
  },
  {
   "cell_type": "code",
   "execution_count": 13,
   "metadata": {},
   "outputs": [
    {
     "name": "stdout",
     "output_type": "stream",
     "text": [
      "Bonjour Eloise Martin.  J'ai 30 ans et j'habite à Bordeaux\n"
     ]
    }
   ],
   "source": [
    "dire_bonjour(\"Eloise\", lastname=\"Martin\", city=\"Bordeaux\")"
   ]
  },
  {
   "cell_type": "code",
   "execution_count": 14,
   "metadata": {},
   "outputs": [
    {
     "name": "stdout",
     "output_type": "stream",
     "text": [
      "Bonjour Martin Eloise.  J'ai 30 ans et j'habite à Bordeaux\n"
     ]
    }
   ],
   "source": [
    "dire_bonjour(lastname=\"Eloise\", firstname=\"Martin\", city=\"Bordeaux\")"
   ]
  },
  {
   "cell_type": "code",
   "execution_count": 15,
   "metadata": {},
   "outputs": [
    {
     "ename": "SyntaxError",
     "evalue": "positional argument follows keyword argument (<ipython-input-15-a0ab4494f151>, line 1)",
     "output_type": "error",
     "traceback": [
      "\u001b[1;36m  File \u001b[1;32m\"<ipython-input-15-a0ab4494f151>\"\u001b[1;36m, line \u001b[1;32m1\u001b[0m\n\u001b[1;33m    dire_bonjour(lastname=\"Eloise\", \"Martin\", city=\"Bordeaux\")\u001b[0m\n\u001b[1;37m                                   ^\u001b[0m\n\u001b[1;31mSyntaxError\u001b[0m\u001b[1;31m:\u001b[0m positional argument follows keyword argument\n"
     ]
    }
   ],
   "source": [
    "dire_bonjour(lastname=\"Eloise\", \"Martin\", city=\"Bordeaux\")"
   ]
  },
  {
   "cell_type": "code",
   "execution_count": 16,
   "metadata": {},
   "outputs": [
    {
     "name": "stdout",
     "output_type": "stream",
     "text": [
      "4\n",
      "15\n",
      "15\n"
     ]
    }
   ],
   "source": [
    "ma_variable = 4\n",
    "\n",
    "def ma_fonction():\n",
    "    print(ma_variable)\n",
    "    \n",
    "print(ma_variable)\n",
    "ma_variable = 15\n",
    "ma_fonction()\n",
    "print(ma_variable)"
   ]
  },
  {
   "cell_type": "code",
   "execution_count": 17,
   "metadata": {},
   "outputs": [
    {
     "name": "stdout",
     "output_type": "stream",
     "text": [
      "4\n",
      "16\n",
      "15\n"
     ]
    }
   ],
   "source": [
    "ma_variable = 4\n",
    "\n",
    "def ma_fonction():\n",
    "    ma_variable = 16\n",
    "    print(ma_variable)\n",
    "    \n",
    "print(ma_variable)\n",
    "ma_variable = 15\n",
    "ma_fonction()\n",
    "print(ma_variable)"
   ]
  },
  {
   "cell_type": "code",
   "execution_count": 18,
   "metadata": {},
   "outputs": [
    {
     "name": "stdout",
     "output_type": "stream",
     "text": [
      "4\n"
     ]
    },
    {
     "ename": "UnboundLocalError",
     "evalue": "local variable 'ma_variable' referenced before assignment",
     "output_type": "error",
     "traceback": [
      "\u001b[1;31m---------------------------------------------------------------------------\u001b[0m",
      "\u001b[1;31mUnboundLocalError\u001b[0m                         Traceback (most recent call last)",
      "\u001b[1;32m<ipython-input-18-6075781c6d06>\u001b[0m in \u001b[0;36m<module>\u001b[1;34m\u001b[0m\n\u001b[0;32m      7\u001b[0m \u001b[0mprint\u001b[0m\u001b[1;33m(\u001b[0m\u001b[0mma_variable\u001b[0m\u001b[1;33m)\u001b[0m\u001b[1;33m\u001b[0m\u001b[1;33m\u001b[0m\u001b[0m\n\u001b[0;32m      8\u001b[0m \u001b[0mma_variable\u001b[0m \u001b[1;33m=\u001b[0m \u001b[1;36m15\u001b[0m\u001b[1;33m\u001b[0m\u001b[1;33m\u001b[0m\u001b[0m\n\u001b[1;32m----> 9\u001b[1;33m \u001b[0mma_fonction\u001b[0m\u001b[1;33m(\u001b[0m\u001b[1;33m)\u001b[0m\u001b[1;33m\u001b[0m\u001b[1;33m\u001b[0m\u001b[0m\n\u001b[0m\u001b[0;32m     10\u001b[0m \u001b[0mprint\u001b[0m\u001b[1;33m(\u001b[0m\u001b[0mma_variable\u001b[0m\u001b[1;33m)\u001b[0m\u001b[1;33m\u001b[0m\u001b[1;33m\u001b[0m\u001b[0m\n",
      "\u001b[1;32m<ipython-input-18-6075781c6d06>\u001b[0m in \u001b[0;36mma_fonction\u001b[1;34m()\u001b[0m\n\u001b[0;32m      2\u001b[0m \u001b[1;33m\u001b[0m\u001b[0m\n\u001b[0;32m      3\u001b[0m \u001b[1;32mdef\u001b[0m \u001b[0mma_fonction\u001b[0m\u001b[1;33m(\u001b[0m\u001b[1;33m)\u001b[0m\u001b[1;33m:\u001b[0m\u001b[1;33m\u001b[0m\u001b[1;33m\u001b[0m\u001b[0m\n\u001b[1;32m----> 4\u001b[1;33m     \u001b[0mprint\u001b[0m\u001b[1;33m(\u001b[0m\u001b[0mma_variable\u001b[0m\u001b[1;33m)\u001b[0m\u001b[1;33m\u001b[0m\u001b[1;33m\u001b[0m\u001b[0m\n\u001b[0m\u001b[0;32m      5\u001b[0m     \u001b[0mma_variable\u001b[0m \u001b[1;33m=\u001b[0m \u001b[1;36m16\u001b[0m\u001b[1;33m\u001b[0m\u001b[1;33m\u001b[0m\u001b[0m\n\u001b[0;32m      6\u001b[0m \u001b[1;33m\u001b[0m\u001b[0m\n",
      "\u001b[1;31mUnboundLocalError\u001b[0m: local variable 'ma_variable' referenced before assignment"
     ]
    }
   ],
   "source": [
    "ma_variable = 4\n",
    "\n",
    "def ma_fonction():\n",
    "    print(ma_variable)\n",
    "    ma_variable = 16\n",
    "    \n",
    "print(ma_variable)\n",
    "ma_variable = 15\n",
    "ma_fonction()\n",
    "print(ma_variable)"
   ]
  },
  {
   "cell_type": "code",
   "execution_count": 19,
   "metadata": {},
   "outputs": [
    {
     "name": "stdout",
     "output_type": "stream",
     "text": [
      "4\n",
      "15\n"
     ]
    }
   ],
   "source": [
    "ma_variable = 4\n",
    "\n",
    "def ma_fonction():\n",
    "    # print(ma_variable)\n",
    "    ma_variable = 16\n",
    "    \n",
    "print(ma_variable)\n",
    "ma_variable = 15\n",
    "ma_fonction()\n",
    "print(ma_variable)"
   ]
  },
  {
   "cell_type": "code",
   "execution_count": 20,
   "metadata": {},
   "outputs": [
    {
     "name": "stdout",
     "output_type": "stream",
     "text": [
      "{'val': 4}\n",
      "{'val': 16}\n"
     ]
    }
   ],
   "source": [
    "ma_variable = {\"val\": 4}\n",
    "\n",
    "def ma_fonction():\n",
    "    # print(ma_variable)\n",
    "    ma_variable = {\"val\": 15}\n",
    "    \n",
    "print(ma_variable)\n",
    "ma_variable = {\"val\": 16}\n",
    "ma_fonction()\n",
    "print(ma_variable)"
   ]
  },
  {
   "cell_type": "code",
   "execution_count": 21,
   "metadata": {},
   "outputs": [
    {
     "name": "stdout",
     "output_type": "stream",
     "text": [
      "{'val': 4}\n",
      "{'val': 15}\n"
     ]
    }
   ],
   "source": [
    "ma_variable = {\"val\": 4}\n",
    "\n",
    "def ma_fonction():\n",
    "    # print(ma_variable)\n",
    "    ma_variable[\"val\"] = 15\n",
    "    \n",
    "print(ma_variable)\n",
    "ma_variable = {\"val\": 16}\n",
    "ma_fonction()\n",
    "print(ma_variable)"
   ]
  },
  {
   "cell_type": "code",
   "execution_count": 22,
   "metadata": {},
   "outputs": [
    {
     "name": "stdout",
     "output_type": "stream",
     "text": [
      "{'val': 4}\n",
      "{'val': 16}\n"
     ]
    }
   ],
   "source": [
    "ma_variable = {\"val\": 4}\n",
    "\n",
    "def ma_fonction(ma_variable):\n",
    "    # print(ma_variable)\n",
    "    ma_variable[\"val\"] = 15\n",
    "    \n",
    "print(ma_variable)\n",
    "ma_variable = {\"val\": 16}\n",
    "ma_fonction({\"val\": 18})\n",
    "print(ma_variable)"
   ]
  },
  {
   "cell_type": "code",
   "execution_count": 23,
   "metadata": {},
   "outputs": [
    {
     "name": "stdout",
     "output_type": "stream",
     "text": [
      "{'val': 4}\n",
      "{'val': 15}\n"
     ]
    }
   ],
   "source": [
    "ma_variable = {\"val\": 4}\n",
    "\n",
    "def ma_fonction(ma_variable):\n",
    "    # print(ma_variable)\n",
    "    ma_variable[\"val\"] = 15\n",
    "    \n",
    "print(ma_variable)\n",
    "ma_variable = {\"val\": 16}\n",
    "ma_fonction(ma_variable)\n",
    "print(ma_variable)"
   ]
  },
  {
   "cell_type": "code",
   "execution_count": 25,
   "metadata": {},
   "outputs": [
    {
     "name": "stdout",
     "output_type": "stream",
     "text": [
      "4\n",
      "15\n",
      "16\n"
     ]
    }
   ],
   "source": [
    "ma_variable = 4\n",
    "\n",
    "def ma_fonction():\n",
    "    global ma_variable\n",
    "    print(ma_variable)\n",
    "    ma_variable = 16\n",
    "    \n",
    "print(ma_variable)\n",
    "ma_variable = 15\n",
    "ma_fonction()\n",
    "print(ma_variable)"
   ]
  },
  {
   "cell_type": "markdown",
   "metadata": {},
   "source": [
    "## Packing & unpacking"
   ]
  },
  {
   "cell_type": "code",
   "execution_count": 26,
   "metadata": {},
   "outputs": [
    {
     "name": "stdout",
     "output_type": "stream",
     "text": [
      "('Mathieur', 'Elma', 'Jean-Louise')\n"
     ]
    }
   ],
   "source": [
    "def dire_bonjour(*args):\n",
    "    print(args)\n",
    "    \n",
    "    \n",
    "dire_bonjour(\"Mathieur\", \"Elma\", \"Jean-Louise\")"
   ]
  },
  {
   "cell_type": "code",
   "execution_count": 27,
   "metadata": {},
   "outputs": [
    {
     "name": "stdout",
     "output_type": "stream",
     "text": [
      "('Mathieur', 'Elma', 'Jean-Louise', 'Aurelien')\n"
     ]
    }
   ],
   "source": [
    "def dire_bonjour(*args):\n",
    "    print(args)\n",
    "    \n",
    "    \n",
    "dire_bonjour(\"Mathieur\", \"Elma\", \"Jean-Louise\", \"Aurelien\")"
   ]
  },
  {
   "cell_type": "code",
   "execution_count": 29,
   "metadata": {},
   "outputs": [
    {
     "name": "stdout",
     "output_type": "stream",
     "text": [
      "('Mathieur', 'Elma', 'Jean-Louise', 'Aurelien')\n",
      "{'city': 'Paris'}\n"
     ]
    }
   ],
   "source": [
    "def dire_bonjour(*args, **kwargs):\n",
    "    print(args)\n",
    "    print(kwargs)\n",
    "    \n",
    "    \n",
    "dire_bonjour(\"Mathieur\", \"Elma\", \"Jean-Louise\", \"Aurelien\", city=\"Paris\")"
   ]
  },
  {
   "cell_type": "code",
   "execution_count": 30,
   "metadata": {},
   "outputs": [
    {
     "name": "stdout",
     "output_type": "stream",
     "text": [
      "Bonjour Jordan Hewitt.  J'ai 40 ans et j'habite à Paris\n"
     ]
    }
   ],
   "source": [
    "def dire_bonjour(firstname, lastname, age=30, city=\"Paris\"):\n",
    "    print(f\"Bonjour {firstname} {lastname}.  J'ai {age} ans et j'habite à {city}\")\n",
    "    \n",
    "    \n",
    "args = [\"Jordan\", \"Hewitt\", 40]\n",
    "dire_bonjour(*args)"
   ]
  },
  {
   "cell_type": "code",
   "execution_count": 31,
   "metadata": {},
   "outputs": [
    {
     "name": "stdout",
     "output_type": "stream",
     "text": [
      "Bonjour Jordan Hewitt.  J'ai 40 ans et j'habite à Melbourne\n"
     ]
    }
   ],
   "source": [
    "def dire_bonjour(firstname, lastname, age=30, city=\"Paris\"):\n",
    "    print(f\"Bonjour {firstname} {lastname}. J'ai {age} ans et j'habite à {city}\")\n",
    "    \n",
    "    \n",
    "args = [\"Jordan\", \"Hewitt\", 40, \"Melbourne\"]\n",
    "dire_bonjour(*args)"
   ]
  },
  {
   "cell_type": "code",
   "execution_count": 32,
   "metadata": {},
   "outputs": [
    {
     "name": "stdout",
     "output_type": "stream",
     "text": [
      "Bonjour Jordan Jean. J'ai 52 ans et j'habite à New-York\n"
     ]
    }
   ],
   "source": [
    "def dire_bonjour(firstname, lastname, age=30, city=\"Paris\"):\n",
    "    print(f\"Bonjour {firstname} {lastname}. J'ai {age} ans et j'habite à {city}\")\n",
    "    \n",
    "    \n",
    "args = [\"Jordan\"]\n",
    "dico = {\"lastname\": \"Jean\", \"age\": 52, \"city\": \"New-York\"}\n",
    "dire_bonjour(*args, **dico)"
   ]
  },
  {
   "cell_type": "markdown",
   "metadata": {},
   "source": [
    "## Les décorateurs"
   ]
  },
  {
   "cell_type": "code",
   "execution_count": 34,
   "metadata": {},
   "outputs": [],
   "source": [
    "def dire_bonjour(firstname, lastname, age=30, city=\"Paris\"):\n",
    "    return f\"Bonjour {firstname} {lastname}. J'ai {age} ans et j'habite à {city}\"\n",
    "    \n",
    "    \n",
    "def repondre(firstname, lastname):\n",
    "    return f\"Enchanté {firstname} {lastname}\"\n"
   ]
  },
  {
   "cell_type": "code",
   "execution_count": 38,
   "metadata": {},
   "outputs": [
    {
     "name": "stdout",
     "output_type": "stream",
     "text": [
      "BONJOUR ELOISE MARTIN. J'AI 40 ANS ET J'HABITE À BORDEAUX\n",
      "ENCHANTÉ ELOISE MARTIN\n"
     ]
    }
   ],
   "source": [
    "print(dire_bonjour(\"Eloise\", \"Martin\", 40, \"Bordeaux\"))\n",
    "print(repondre(\"Eloise\", \"Martin\"))\n"
   ]
  },
  {
   "cell_type": "code",
   "execution_count": 39,
   "metadata": {},
   "outputs": [
    {
     "name": "stdout",
     "output_type": "stream",
     "text": [
      "Mon déco\n",
      "Mon déco\n"
     ]
    }
   ],
   "source": [
    "def mon_deco(f):\n",
    "    print(\"Mon déco\")\n",
    "    return f\n",
    "\n",
    "@mon_deco\n",
    "def dire_bonjour(firstname, lastname, age=30, city=\"Paris\"):\n",
    "    return f\"Bonjour {firstname} {lastname}. J'ai {age} ans et j'habite à {city}\"\n",
    "    \n",
    "@mon_deco\n",
    "def repondre(firstname, lastname):\n",
    "    return f\"Enchanté {firstname} {lastname}\"\n"
   ]
  },
  {
   "cell_type": "code",
   "execution_count": 40,
   "metadata": {},
   "outputs": [
    {
     "name": "stdout",
     "output_type": "stream",
     "text": [
      "Bonjour Eloise Martin. J'ai 40 ans et j'habite à Bordeaux\n",
      "Enchanté Eloise Martin\n"
     ]
    }
   ],
   "source": [
    "print(dire_bonjour(\"Eloise\", \"Martin\", 40, \"Bordeaux\"))\n",
    "print(repondre(\"Eloise\", \"Martin\"))\n"
   ]
  },
  {
   "cell_type": "code",
   "execution_count": 43,
   "metadata": {},
   "outputs": [
    {
     "name": "stdout",
     "output_type": "stream",
     "text": [
      "Mon déco\n",
      "Mon déco\n"
     ]
    }
   ],
   "source": [
    "def mon_deco(f):\n",
    "    print(\"Mon déco\")\n",
    "    def nouvelle_fonction(*args, **kwargs):\n",
    "        print(\"nouveau comportement\")\n",
    "        return f(*args, **kwargs)\n",
    "    return nouvelle_fonction\n",
    "\n",
    "@mon_deco\n",
    "def dire_bonjour(firstname, lastname, age=30, city=\"Paris\"):\n",
    "    return f\"Bonjour {firstname} {lastname}. J'ai {age} ans et j'habite à {city}\"\n",
    "    \n",
    "@mon_deco\n",
    "def repondre(firstname, lastname):\n",
    "    return f\"Enchanté {firstname} {lastname}\"\n",
    "\n"
   ]
  },
  {
   "cell_type": "code",
   "execution_count": 44,
   "metadata": {},
   "outputs": [
    {
     "name": "stdout",
     "output_type": "stream",
     "text": [
      "nouveau comportement\n",
      "Bonjour Eloise Martin. J'ai 40 ans et j'habite à Bordeaux\n",
      "nouveau comportement\n",
      "Enchanté Eloise Martin\n"
     ]
    }
   ],
   "source": [
    "print(dire_bonjour(\"Eloise\", \"Martin\", 40, \"Bordeaux\"))\n",
    "print(repondre(\"Eloise\", \"Martin\"))\n"
   ]
  },
  {
   "cell_type": "code",
   "execution_count": 47,
   "metadata": {},
   "outputs": [
    {
     "name": "stdout",
     "output_type": "stream",
     "text": [
      "BONJOUR ELOISE MARTIN. J'AI 40 ANS ET J'HABITE À BORDEAUX\n",
      "ENCHANTÉ ELOISE MARTIN\n"
     ]
    }
   ],
   "source": [
    "def mon_deco(f):\n",
    "    def nouvelle_fonction(*args, **kwargs):\n",
    "        return f(*args, **kwargs).upper()\n",
    "    return nouvelle_fonction\n",
    "\n",
    "@mon_deco\n",
    "def dire_bonjour(firstname, lastname, age=30, city=\"Paris\"):\n",
    "    return f\"Bonjour {firstname} {lastname}. J'ai {age} ans et j'habite à {city}\"\n",
    "    \n",
    "@mon_deco\n",
    "def repondre(firstname, lastname):\n",
    "    return f\"Enchanté {firstname} {lastname}\"\n",
    "\n",
    "\n",
    "print(dire_bonjour(\"Eloise\", \"Martin\", 40, \"Bordeaux\"))\n",
    "print(repondre(\"Eloise\", \"Martin\"))\n"
   ]
  },
  {
   "cell_type": "code",
   "execution_count": 50,
   "metadata": {},
   "outputs": [
    {
     "name": "stdout",
     "output_type": "stream",
     "text": [
      "ENCHANTÉ ELOISE MARTIN\n"
     ]
    }
   ],
   "source": [
    "def assert_string(f):\n",
    "    def nouvelle_fonction(*args, **kwargs):\n",
    "        assert len([a for a in args if type(a) != str]) == 0, \"All parameters must be strings\"\n",
    "        return f(*args, **kwargs).upper()\n",
    "    return nouvelle_fonction\n",
    "\n",
    "@assert_string\n",
    "def dire_bonjour(firstname, lastname, age=30, city=\"Paris\"):\n",
    "    return f\"Bonjour {firstname} {lastname}. J'ai {age} ans et j'habite à {city}\"\n",
    "    \n",
    "@assert_string\n",
    "def repondre(firstname, lastname):\n",
    "    return f\"Enchanté {firstname} {lastname}\"\n",
    "\n",
    "\n",
    "# print(dire_bonjour(\"Eloise\", \"Martin\", 40, \"Bordeaux\"))\n",
    "print(repondre(\"Eloise\", \"Martin\"))\n"
   ]
  },
  {
   "cell_type": "code",
   "execution_count": 54,
   "metadata": {},
   "outputs": [
    {
     "data": {
      "text/plain": [
       "2"
      ]
     },
     "execution_count": 54,
     "metadata": {},
     "output_type": "execute_result"
    }
   ],
   "source": [
    "from random import randint\n",
    "\n",
    "randint(0,2)"
   ]
  },
  {
   "cell_type": "markdown",
   "metadata": {},
   "source": [
    "## Recherche par dichotomie\n",
    "\n",
    "1- L'ordinateur va générer un entier aléatoire entre 0 et 100 (compris) grâce à randint. L'utilisateur va devoir le deviner en faisant des propositions. Proposititons auxquelles l'ordinateur répondra \"trop petit\", \"trop grand\" ou \"gagné\"\n",
    "\n",
    "2- L'utilisateur à un nombe secret en tête.Il ne l'écrit pas dans le code. L'ordinateur doit le deviner. Pour cela, il fait plusieurs propoposition. A cacune de ses propositions, l'utilisateur répond \"P\" pour trop petit, \"G\" pour trop grand, \"E\" pour "
   ]
  }
 ],
 "metadata": {
  "kernelspec": {
   "display_name": "Python 3",
   "language": "python",
   "name": "python3"
  },
  "language_info": {
   "codemirror_mode": {
    "name": "ipython",
    "version": 3
   },
   "file_extension": ".py",
   "mimetype": "text/x-python",
   "name": "python",
   "nbconvert_exporter": "python",
   "pygments_lexer": "ipython3",
   "version": "3.7.3"
  }
 },
 "nbformat": 4,
 "nbformat_minor": 4
}
